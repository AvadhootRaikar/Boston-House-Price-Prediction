{
 "cells": [
  {
   "cell_type": "code",
   "execution_count": null,
   "id": "51693a89",
   "metadata": {},
   "outputs": [],
   "source": [
    "# libraries\n",
    "import numpy as np\n",
    "import pandas as pd\n",
    "import matplotlib.pyplot as plt\n",
    "%matplotlib inline\n",
    "import seaborn as sns\n",
    "import warnings\n",
    "warnings.filterwarnings(\"ignore\")\n",
    "# use this library to upload the dataset\n",
    "from sklearn.datasets import load_boston"
   ]
  },
  {
   "cell_type": "code",
   "execution_count": null,
   "id": "09ef95d7",
   "metadata": {},
   "outputs": [],
   "source": [
    "# load the dataset\n",
    "df=load_boston()"
   ]
  },
  {
   "cell_type": "code",
   "execution_count": null,
   "id": "6c9a4e4d",
   "metadata": {},
   "outputs": [],
   "source": [
    "# check the components of dataset\n",
    "df.keys()"
   ]
  },
  {
   "cell_type": "code",
   "execution_count": null,
   "id": "60edb3d7",
   "metadata": {},
   "outputs": [],
   "source": [
    "# check the filename\n",
    "print(df.filename)"
   ]
  },
  {
   "cell_type": "code",
   "execution_count": null,
   "id": "6f9329b3",
   "metadata": {},
   "outputs": [],
   "source": [
    "# let's the data_module\n",
    "print(df.data_module)"
   ]
  },
  {
   "cell_type": "code",
   "execution_count": null,
   "id": "c8576e5b",
   "metadata": {},
   "outputs": [],
   "source": [
    "# let's see the features or columns in the dataset\n",
    "print(df.feature_names.tolist())"
   ]
  },
  {
   "cell_type": "code",
   "execution_count": null,
   "id": "4bb5bbca",
   "metadata": {},
   "outputs": [],
   "source": [
    "# see the data that has been trasformed\n",
    "print(df.data)"
   ]
  },
  {
   "cell_type": "code",
   "execution_count": null,
   "id": "a3fef3bb",
   "metadata": {},
   "outputs": [],
   "source": [
    "# check the target data or independent variable\n",
    "print(df.target)"
   ]
  },
  {
   "cell_type": "code",
   "execution_count": null,
   "id": "6a594023",
   "metadata": {},
   "outputs": [],
   "source": [
    "# check the shape of the data or dependent feature\n",
    "df.data.shape"
   ]
  },
  {
   "cell_type": "code",
   "execution_count": null,
   "id": "02dd248b",
   "metadata": {},
   "outputs": [],
   "source": [
    "# print data features on a dataframe(X featires)\n",
    "data = pd.DataFrame(df.data, columns=df.feature_names)\n",
    "data"
   ]
  },
  {
   "cell_type": "code",
   "execution_count": null,
   "id": "2143a3dd",
   "metadata": {},
   "outputs": [],
   "source": [
    "# add price to the dataset and check\n",
    "data['Price'] = df.target\n",
    "data.head(5)"
   ]
  },
  {
   "cell_type": "code",
   "execution_count": null,
   "id": "6b407f13",
   "metadata": {},
   "outputs": [],
   "source": [
    "# perform short statistics\n",
    "data.describe().T"
   ]
  },
  {
   "cell_type": "code",
   "execution_count": null,
   "id": "52308893",
   "metadata": {},
   "outputs": [],
   "source": [
    "# choose dependent and independent variable\n",
    "x = df.data\n",
    "y = df.target\n",
    "# there is no need to transform because the data has been transformed from sklearn"
   ]
  },
  {
   "cell_type": "code",
   "execution_count": null,
   "id": "d41f1881",
   "metadata": {},
   "outputs": [],
   "source": [
    "# split data into training and testing set\n",
    "from sklearn.model_selection import train_test_split\n",
    "x_train, x_test, y_train, y_test = train_test_split(x, y, test_size=0.2,random_state=10)"
   ]
  },
  {
   "cell_type": "code",
   "execution_count": null,
   "id": "803a1476",
   "metadata": {},
   "outputs": [],
   "source": [
    "# fit the data to linear regression model for training\n",
    "# call the library\n",
    "from sklearn.linear_model import LinearRegression\n",
    "lr = LinearRegression()\n",
    "lr"
   ]
  },
  {
   "cell_type": "code",
   "execution_count": null,
   "id": "7a7d7ea4",
   "metadata": {},
   "outputs": [],
   "source": [
    "# fit the model to the regressor\n",
    "lr.fit(x_train, y_train)\n",
    "# make prediction with the model\n",
    "pred = lr.predict(x_test)\n",
    "pred"
   ]
  },
  {
   "cell_type": "code",
   "execution_count": null,
   "id": "ecd457ee",
   "metadata": {},
   "outputs": [],
   "source": [
    "# scatter plot to show prdiction result\n",
    "plt.scatter(y_test, pred, c = 'red')\n",
    "plt.xlabel(\"Price: in $1000's\")\n",
    "plt.ylabel(\"Predicted value\")\n",
    "plt.title(\"True value versus Predicted value\")\n",
    "plt.show()"
   ]
  }
 ],
 "metadata": {
  "kernelspec": {
   "display_name": "Python 3 (ipykernel)",
   "language": "python",
   "name": "python3"
  },
  "language_info": {
   "codemirror_mode": {
    "name": "ipython",
    "version": 3
   },
   "file_extension": ".py",
   "mimetype": "text/x-python",
   "name": "python",
   "nbconvert_exporter": "python",
   "pygments_lexer": "ipython3",
   "version": "3.10.2"
  }
 },
 "nbformat": 4,
 "nbformat_minor": 5
}
